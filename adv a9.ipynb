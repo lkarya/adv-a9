{
 "cells": [
  {
   "cell_type": "code",
   "execution_count": 5,
   "id": "68c0f77b",
   "metadata": {},
   "outputs": [],
   "source": [
    "# Q1. In Python 3.X, what are the names and functions of string object types?\n",
    "\n",
    "#join() Converts the elements of an iterable into a string , ljust() Returns a left justified version of the string,\n",
    "#lower() Converts a string into lower case, lstrip() Returns a left trim version of the string\n"
   ]
  },
  {
   "cell_type": "code",
   "execution_count": 7,
   "id": "c3a53e30",
   "metadata": {},
   "outputs": [],
   "source": [
    "# len() The len() function returns the length of a string. ...\n",
    "\n",
    "#str() This function converts any data type into a string. lower() and upper() ...strip() ...isdigit() ...isalpha() ...isspace() startswith()"
   ]
  },
  {
   "cell_type": "code",
   "execution_count": 8,
   "id": "039d7e00",
   "metadata": {},
   "outputs": [],
   "source": [
    "# What qualifies ASCII text as a form of Unicode text?\n",
    "\n",
    "#It is a character encoding standard for electronic communication. American Standard Code for Information Interchange(ASCII) and was first launched in 1963. ASCII codes are used to represent text in computers and telecom devices. "
   ]
  },
  {
   "cell_type": "code",
   "execution_count": 10,
   "id": "de7fda95",
   "metadata": {},
   "outputs": [],
   "source": [
    "# How much of an effect does the change in string types in Python 3.X have on your code?\n",
    "\n",
    "# Using the str() function.\n",
    "# Using the __str__() function."
   ]
  },
  {
   "cell_type": "code",
   "execution_count": null,
   "id": "befc49ea",
   "metadata": {},
   "outputs": [],
   "source": []
  }
 ],
 "metadata": {
  "kernelspec": {
   "display_name": "Python 3 (ipykernel)",
   "language": "python",
   "name": "python3"
  },
  "language_info": {
   "codemirror_mode": {
    "name": "ipython",
    "version": 3
   },
   "file_extension": ".py",
   "mimetype": "text/x-python",
   "name": "python",
   "nbconvert_exporter": "python",
   "pygments_lexer": "ipython3",
   "version": "3.9.7"
  }
 },
 "nbformat": 4,
 "nbformat_minor": 5
}
